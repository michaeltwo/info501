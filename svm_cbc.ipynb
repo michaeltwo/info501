{
 "cells": [
  {
   "cell_type": "code",
   "execution_count": 6,
   "metadata": {},
   "outputs": [],
   "source": [
    "from sklearn import svm\n",
    "import matplotlib.pyplot as plt\n",
    "import numpy as np\n",
    "import pandas as pd\n",
    "from sklearn.model_selection import train_test_split\n",
    "from sklearn.metrics import accuracy_score, classification_report\n",
    "from sklearn.preprocessing import LabelEncoder, StandardScaler, MinMaxScaler\n",
    "from scipy.stats import zscore\n"
   ]
  },
  {
   "cell_type": "code",
   "execution_count": 7,
   "metadata": {},
   "outputs": [
    {
     "ename": "KeyError",
     "evalue": "'Leipzig'",
     "output_type": "error",
     "traceback": [
      "\u001b[1;31m---------------------------------------------------------------------------\u001b[0m",
      "\u001b[1;31mKeyError\u001b[0m                                  Traceback (most recent call last)",
      "Cell \u001b[1;32mIn[7], line 10\u001b[0m\n\u001b[0;32m      3\u001b[0m \u001b[38;5;66;03m# preprocessing.split_external_data(df)\u001b[39;00m\n\u001b[0;32m      4\u001b[0m \u001b[38;5;66;03m# undersample_data(df)\u001b[39;00m\n\u001b[0;32m      5\u001b[0m \u001b[38;5;66;03m# rescale_dataset(df)\u001b[39;00m\n\u001b[0;32m      6\u001b[0m \u001b[38;5;66;03m# remove_outliers(df)\u001b[39;00m\n\u001b[0;32m      7\u001b[0m \u001b[38;5;66;03m# preprocess(df, save_csv = False)\u001b[39;00m\n\u001b[0;32m      8\u001b[0m df\u001b[38;5;241m=\u001b[39mpd\u001b[38;5;241m.\u001b[39mread_csv(\u001b[38;5;124m\"\u001b[39m\u001b[38;5;124mC:\u001b[39m\u001b[38;5;130;01m\\\\\u001b[39;00m\u001b[38;5;124mUsers\u001b[39m\u001b[38;5;130;01m\\\\\u001b[39;00m\u001b[38;5;124mweihua\u001b[39m\u001b[38;5;130;01m\\\\\u001b[39;00m\u001b[38;5;124mDesktop\u001b[39m\u001b[38;5;130;01m\\\\\u001b[39;00m\u001b[38;5;124mPython_MSIS_SYS1\u001b[39m\u001b[38;5;130;01m\\\\\u001b[39;00m\u001b[38;5;124mfinalproject\u001b[39m\u001b[38;5;130;01m\\\\\u001b[39;00m\u001b[38;5;124msbcdata_5000.csv\u001b[39m\u001b[38;5;124m\"\u001b[39m)\n\u001b[1;32m---> 10\u001b[0m df_uml, df_umg \u001b[38;5;241m=\u001b[39m preprocessing\u001b[38;5;241m.\u001b[39mpreprocess(df, save_csv \u001b[38;5;241m=\u001b[39m \u001b[38;5;28;01mFalse\u001b[39;00m)\n\u001b[0;32m     12\u001b[0m \u001b[38;5;66;03m# print('training set preprocessing confirmation')\u001b[39;00m\n\u001b[0;32m     13\u001b[0m \u001b[38;5;66;03m# display(df_uml.Diagnosis.value_counts()) #make sure data is balance\u001b[39;00m\n\u001b[0;32m     14\u001b[0m \u001b[38;5;66;03m# display(df_uml)\u001b[39;00m\n\u001b[1;32m   (...)\u001b[0m\n\u001b[0;32m     17\u001b[0m \u001b[38;5;66;03m# display(df_umg.Diagnosis.value_counts()) #make sure data is balance\u001b[39;00m\n\u001b[0;32m     18\u001b[0m \u001b[38;5;66;03m# display(df_umg)\u001b[39;00m\n\u001b[0;32m     20\u001b[0m y\u001b[38;5;241m=\u001b[39mdf[\u001b[38;5;124m'\u001b[39m\u001b[38;5;124mDiagnosis\u001b[39m\u001b[38;5;124m'\u001b[39m]\n",
      "File \u001b[1;32mc:\\Users\\weihua\\Desktop\\Python_MSIS_SYS1\\finalproject\\svm\\info501\\preprocessing.py:131\u001b[0m, in \u001b[0;36mpreprocess\u001b[1;34m(df, save_csv)\u001b[0m\n\u001b[0;32m    129\u001b[0m \u001b[39mdef\u001b[39;00m \u001b[39mpreprocess\u001b[39m(df, save_csv \u001b[39m=\u001b[39m \u001b[39mFalse\u001b[39;00m):\n\u001b[0;32m    130\u001b[0m     df \u001b[39m=\u001b[39m df\u001b[39m.\u001b[39mcopy()\n\u001b[1;32m--> 131\u001b[0m     datasets \u001b[39m=\u001b[39m split_external_data(df)\n\u001b[0;32m    133\u001b[0m     preprops \u001b[39m=\u001b[39m []\n\u001b[0;32m    134\u001b[0m     \u001b[39mfor\u001b[39;00m df \u001b[39min\u001b[39;00m datasets:\n",
      "File \u001b[1;32mc:\\Users\\weihua\\Desktop\\Python_MSIS_SYS1\\finalproject\\svm\\info501\\preprocessing.py:28\u001b[0m, in \u001b[0;36msplit_external_data\u001b[1;34m(df)\u001b[0m\n\u001b[0;32m     22\u001b[0m \u001b[39m\u001b[39m\u001b[39m\"\"\"\u001b[39;00m\n\u001b[0;32m     23\u001b[0m \u001b[39mdf_uml = training data\u001b[39;00m\n\u001b[0;32m     24\u001b[0m \u001b[39mdf_umg = external validation set\u001b[39;00m\n\u001b[0;32m     25\u001b[0m \u001b[39mnote: external validation set is different from the test data from train test split\u001b[39;00m\n\u001b[0;32m     26\u001b[0m \u001b[39m\"\"\"\u001b[39;00m\n\u001b[0;32m     27\u001b[0m groups \u001b[39m=\u001b[39m df\u001b[39m.\u001b[39mgroupby(by \u001b[39m=\u001b[39m \u001b[39m'\u001b[39m\u001b[39mCenter\u001b[39m\u001b[39m'\u001b[39m)\n\u001b[1;32m---> 28\u001b[0m df_uml \u001b[39m=\u001b[39m groups\u001b[39m.\u001b[39mget_group(\u001b[39m'\u001b[39m\u001b[39mLeipzig\u001b[39m\u001b[39m'\u001b[39m)\n\u001b[0;32m     29\u001b[0m df_umg \u001b[39m=\u001b[39m groups\u001b[39m.\u001b[39mget_group(\u001b[39m'\u001b[39m\u001b[39mGreifswald\u001b[39m\u001b[39m'\u001b[39m)\n\u001b[0;32m     31\u001b[0m \u001b[39mreturn\u001b[39;00m df_uml, df_umg\n",
      "File \u001b[1;32mc:\\anaconda\\envs\\MSIS_Day1\\Lib\\site-packages\\pandas\\core\\groupby\\groupby.py:1114\u001b[0m, in \u001b[0;36mBaseGroupBy.get_group\u001b[1;34m(self, name, obj)\u001b[0m\n\u001b[0;32m   1112\u001b[0m inds \u001b[39m=\u001b[39m \u001b[39mself\u001b[39m\u001b[39m.\u001b[39m_get_index(name)\n\u001b[0;32m   1113\u001b[0m \u001b[39mif\u001b[39;00m \u001b[39mnot\u001b[39;00m \u001b[39mlen\u001b[39m(inds):\n\u001b[1;32m-> 1114\u001b[0m     \u001b[39mraise\u001b[39;00m \u001b[39mKeyError\u001b[39;00m(name)\n\u001b[0;32m   1116\u001b[0m \u001b[39mif\u001b[39;00m obj \u001b[39mis\u001b[39;00m \u001b[39mNone\u001b[39;00m:\n\u001b[0;32m   1117\u001b[0m     indexer \u001b[39m=\u001b[39m inds \u001b[39mif\u001b[39;00m \u001b[39mself\u001b[39m\u001b[39m.\u001b[39maxis \u001b[39m==\u001b[39m \u001b[39m0\u001b[39m \u001b[39melse\u001b[39;00m (\u001b[39mslice\u001b[39m(\u001b[39mNone\u001b[39;00m), inds)\n",
      "\u001b[1;31mKeyError\u001b[0m: 'Leipzig'"
     ]
    }
   ],
   "source": [
    "import preprocessing\n",
    "\n",
    "# preprocessing.split_external_data(df)\n",
    "# undersample_data(df)\n",
    "# rescale_dataset(df)\n",
    "# remove_outliers(df)\n",
    "# preprocess(df, save_csv = False)\n",
    "df=pd.read_csv(\"C:\\\\Users\\\\weihua\\\\Desktop\\\\Python_MSIS_SYS1\\\\finalproject\\\\sbcdata_5000.csv\")\n",
    "\n",
    "df_uml, df_umg = preprocessing.preprocess(df, save_csv = False)\n",
    "\n",
    "# print('training set preprocessing confirmation')\n",
    "# display(df_uml.Diagnosis.value_counts()) #make sure data is balance\n",
    "# display(df_uml)\n",
    "\n",
    "# print('validation set preprocessing confirmation')\n",
    "# display(df_umg.Diagnosis.value_counts()) #make sure data is balance\n",
    "# display(df_umg)\n",
    "\n",
    "y=df['Diagnosis']\n",
    "x=df[['Age','Sex','CRP','HGB','MCV','PLT','RBC','WBC',]]\n",
    "X_train, X_test, y_train, y_test = train_test_split(x, y,test_size=0.3, random_state=42)\n",
    "\n",
    "# 创建SVM模型实例 model = svm.SVC(kernel='rbf', C=1.0, gamma='scale')\n",
    "model = svm.SVC(kernel='rbf', C=1.0, gamma='scale', class_weight='balanced')\n",
    "# 训练模型\n",
    "model.fit(X_train, y_train)\n",
    "# 在测试集上预测\n",
    "y_pred = model.predict(X_test)\n",
    "# 评估模型\n",
    "print(\"Accuracy:\", accuracy_score(y_test, y_pred))\n",
    "print(\"Classification Report:\\n\", classification_report(y_test, y_pred))\n",
    "\n",
    "\n"
   ]
  },
  {
   "cell_type": "code",
   "execution_count": 2,
   "metadata": {},
   "outputs": [
    {
     "name": "stdout",
     "output_type": "stream",
     "text": [
      "Age            int64\n",
      "Sex           object\n",
      "Diagnosis     object\n",
      "CRP          float64\n",
      "HGB          float64\n",
      "MCV          float64\n",
      "PLT          float64\n",
      "RBC          float64\n",
      "WBC          float64\n",
      "dtype: object\n",
      "(5000, 9)\n",
      "Age             0\n",
      "Sex             0\n",
      "Diagnosis       0\n",
      "CRP          2570\n",
      "HGB           180\n",
      "MCV           180\n",
      "PLT           180\n",
      "RBC           180\n",
      "WBC           180\n",
      "dtype: int64\n",
      "Age          0\n",
      "Sex          0\n",
      "Diagnosis    0\n",
      "CRP          0\n",
      "HGB          0\n",
      "MCV          0\n",
      "PLT          0\n",
      "RBC          0\n",
      "WBC          0\n",
      "dtype: int64\n",
      "Accuracy: 0.7323651452282157\n",
      "Classification Report:\n",
      "               precision    recall  f1-score   support\n",
      "\n",
      "           0       0.95      0.72      0.82      1188\n",
      "           1       0.11      0.92      0.19        13\n",
      "           2       0.44      0.77      0.56       245\n",
      "\n",
      "    accuracy                           0.73      1446\n",
      "   macro avg       0.50      0.80      0.52      1446\n",
      "weighted avg       0.86      0.73      0.77      1446\n",
      "\n"
     ]
    }
   ],
   "source": [
    "#MZ original code, 处理整个数据集时间过长\n",
    "\n",
    "df=pd.read_csv('sbcdata_5000.csv')\n",
    "df.drop(columns=['Id', 'Center','Set','Sender','Episode','Time','TargetIcu','SecToIcu','PCT'],inplace=True)\n",
    "\n",
    "# 打印头测试 print(df.head())\n",
    "print(df.dtypes)\n",
    "print(df.shape)\n",
    "print(df.isna().sum())\n",
    "df['CRP']=df['CRP'].fillna(df['CRP'].mean())\n",
    "#删除missing数据 drop\n",
    "df.dropna(inplace=True)\n",
    "print(df.isna().sum())\n",
    "#重新处理sex和diagnosis列，因为不是数字 encode, handle sex and diagnosis\n",
    "label_encoder_sex = LabelEncoder()\n",
    "df['Sex'] = label_encoder_sex.fit_transform(df['Sex'])  # Male -> 1, Female -> 0\n",
    "label_encoder_diagnosis = LabelEncoder()\n",
    "df['Diagnosis'] = label_encoder_diagnosis.fit_transform(df['Diagnosis'])  # Positive -> 1, Negative -> 0\n",
    "\n",
    "#数据分层，提取使用的columns SVM\n",
    "y=df['Diagnosis']\n",
    "x=df[['Age','Sex','CRP','HGB','MCV','PLT','RBC','WBC',]]\n",
    "# 打印头测试 print(x.head(),y.head())\n",
    "X_train, X_test, y_train, y_test = train_test_split(x, y,test_size=0.3, random_state=42)\n",
    "\n",
    "# 标准化数据 Standardize numerical features\n",
    "scaler = StandardScaler()\n",
    "X_train = scaler.fit_transform(X_train)\n",
    "X_test = scaler.transform(X_test)\n",
    "\n",
    "# 创建SVM模型，使用RBF核\n",
    "# 创建SVM模型实例 model = svm.SVC(kernel='rbf', C=1.0, gamma='scale')\n",
    "model = svm.SVC(kernel='rbf', C=1.0, gamma='scale', class_weight='balanced')\n",
    "# 训练模型\n",
    "model.fit(X_train, y_train)\n",
    "# 在测试集上预测\n",
    "y_pred = model.predict(X_test)\n",
    "# 评估模型\n",
    "print(\"Accuracy:\", accuracy_score(y_test, y_pred))\n",
    "print(\"Classification Report:\\n\", classification_report(y_test, y_pred))\n",
    "\n",
    "\n",
    "\n"
   ]
  }
 ],
 "metadata": {
  "kernelspec": {
   "display_name": "Python 3.12.7 ('MSIS_Day1')",
   "language": "python",
   "name": "python3"
  },
  "language_info": {
   "codemirror_mode": {
    "name": "ipython",
    "version": 3
   },
   "file_extension": ".py",
   "mimetype": "text/x-python",
   "name": "python",
   "nbconvert_exporter": "python",
   "pygments_lexer": "ipython3",
   "version": "3.12.7"
  },
  "orig_nbformat": 4,
  "vscode": {
   "interpreter": {
    "hash": "1980c5e02764c4a70283cb6c84fd17b55be0ca4522e06632ceb1793974fde62f"
   }
  }
 },
 "nbformat": 4,
 "nbformat_minor": 2
}
