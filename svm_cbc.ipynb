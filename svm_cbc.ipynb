{
 "cells": [
  {
   "cell_type": "code",
   "execution_count": 2,
   "metadata": {},
   "outputs": [
    {
     "name": "stdout",
     "output_type": "stream",
     "text": [
      "Age            int64\n",
      "Sex           object\n",
      "Diagnosis     object\n",
      "CRP          float64\n",
      "HGB          float64\n",
      "MCV          float64\n",
      "PLT          float64\n",
      "RBC          float64\n",
      "WBC          float64\n",
      "dtype: object\n",
      "(5000, 9)\n",
      "Age             0\n",
      "Sex             0\n",
      "Diagnosis       0\n",
      "CRP          2570\n",
      "HGB           180\n",
      "MCV           180\n",
      "PLT           180\n",
      "RBC           180\n",
      "WBC           180\n",
      "dtype: int64\n",
      "Age          0\n",
      "Sex          0\n",
      "Diagnosis    0\n",
      "CRP          0\n",
      "HGB          0\n",
      "MCV          0\n",
      "PLT          0\n",
      "RBC          0\n",
      "WBC          0\n",
      "dtype: int64\n",
      "Accuracy: 0.7323651452282157\n",
      "Classification Report:\n",
      "               precision    recall  f1-score   support\n",
      "\n",
      "           0       0.95      0.72      0.82      1188\n",
      "           1       0.11      0.92      0.19        13\n",
      "           2       0.44      0.77      0.56       245\n",
      "\n",
      "    accuracy                           0.73      1446\n",
      "   macro avg       0.50      0.80      0.52      1446\n",
      "weighted avg       0.86      0.73      0.77      1446\n",
      "\n"
     ]
    }
   ],
   "source": [
    "from sklearn import svm\n",
    "import matplotlib.pyplot as plt\n",
    "import numpy as np\n",
    "import pandas as pd\n",
    "from sklearn.model_selection import train_test_split\n",
    "from sklearn.metrics import accuracy_score, classification_report\n",
    "from sklearn.preprocessing import LabelEncoder, StandardScaler\n",
    "\n",
    "df=pd.read_csv('sbcdata_5000.csv')\n",
    "df.drop(columns=['Id', 'Center','Set','Sender','Episode','Time','TargetIcu','SecToIcu','PCT'],inplace=True)\n",
    "# print(df.head())\n",
    "print(df.dtypes)\n",
    "print(df.shape)\n",
    "print(df.isna().sum())\n",
    "df['CRP']=df['CRP'].fillna(df['CRP'].mean())\n",
    "#drop\n",
    "df.dropna(inplace=True)\n",
    "print(df.isna().sum())\n",
    "#encode, handle sex and diagnosis\n",
    "label_encoder_sex = LabelEncoder()\n",
    "df['Sex'] = label_encoder_sex.fit_transform(df['Sex'])  # Male -> 1, Female -> 0\n",
    "label_encoder_diagnosis = LabelEncoder()\n",
    "df['Diagnosis'] = label_encoder_diagnosis.fit_transform(df['Diagnosis'])  # Positive -> 1, Negative -> 0\n",
    "\n",
    "#SVM\n",
    "y=df['Diagnosis']\n",
    "x=df[['Age','Sex','CRP','HGB','MCV','PLT','RBC','WBC',]]\n",
    "# print(x.head(),y.head())\n",
    "X_train, X_test, y_train, y_test = train_test_split(x, y,test_size=0.3, random_state=42)\n",
    "\n",
    "# Standardize numerical features\n",
    "scaler = StandardScaler()\n",
    "X_train = scaler.fit_transform(X_train)\n",
    "X_test = scaler.transform(X_test)\n",
    "\n",
    "# 创建SVM模型，使用RBF核\n",
    "# model = svm.SVC(kernel='rbf', C=1.0, gamma='scale')\n",
    "model = svm.SVC(kernel='rbf', C=1.0, gamma='scale', class_weight='balanced')\n",
    "# 训练模型\n",
    "model.fit(X_train, y_train)\n",
    "# 在测试集上预测\n",
    "y_pred = model.predict(X_test)\n",
    "# 评估模型\n",
    "print(\"Accuracy:\", accuracy_score(y_test, y_pred))\n",
    "print(\"Classification Report:\\n\", classification_report(y_test, y_pred))\n",
    "\n",
    "\n",
    "\n"
   ]
  }
 ],
 "metadata": {
  "kernelspec": {
   "display_name": "Python 3.12.7 ('sk')",
   "language": "python",
   "name": "python3"
  },
  "language_info": {
   "codemirror_mode": {
    "name": "ipython",
    "version": 3
   },
   "file_extension": ".py",
   "mimetype": "text/x-python",
   "name": "python",
   "nbconvert_exporter": "python",
   "pygments_lexer": "ipython3",
   "version": "3.12.7"
  },
  "orig_nbformat": 4,
  "vscode": {
   "interpreter": {
    "hash": "bfc469639288bf41a1a42d3c7b9600db9ce690ea39aebd4661b44b12f329cffa"
   }
  }
 },
 "nbformat": 4,
 "nbformat_minor": 2
}
