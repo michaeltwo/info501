{
 "cells": [
  {
   "cell_type": "code",
   "execution_count": 3,
   "metadata": {},
   "outputs": [],
   "source": [
    "#imports\n",
    "import xgboost as xgb\n",
    "from sklearn.model_selection import train_test_split\n",
    "from sklearn.metrics import accuracy_score, confusion_matrix, precision_score, recall_score, f1_score, roc_auc_score\n",
    "from sklearn.neighbors import KNeighborsClassifier\n",
    "import gdown\n",
    "\n",
    "import preprocessing\n",
    "import visualizations\n",
    "from getfile import getfile\n"
   ]
  },
  {
   "cell_type": "code",
   "execution_count": null,
   "metadata": {},
   "outputs": [
    {
     "name": "stderr",
     "output_type": "stream",
     "text": [
      "Downloading...\n",
      "From (original): https://drive.google.com/uc?id=1fjZZboWTeADwr1QBqGp1SVEZ54it2bHR\n",
      "From (redirected): https://drive.google.com/uc?id=1fjZZboWTeADwr1QBqGp1SVEZ54it2bHR&confirm=t&uuid=7760dedd-a64e-4c89-9398-69ea9def3944\n",
      "To: c:\\Users\\connc\\Code\\INFO 501\\info501\\final code files\\sbcdata.csv\n",
      "100%|██████████| 219M/219M [00:11<00:00, 18.8MB/s] "
     ]
    },
    {
     "name": "stdout",
     "output_type": "stream",
     "text": [
      "文件已下载到当前目录，文件名为: sbcdata.csv\n"
     ]
    },
    {
     "name": "stderr",
     "output_type": "stream",
     "text": [
      "\n"
     ]
    }
   ],
   "source": [
    "#processing\n",
    "getfile()\n",
    "# file_path = r'sbcdata.csv'\n",
    "# df = pd.read_csv(file_path)\n",
    "\n",
    "# #if you want the files to be saved set save_csv to true\n",
    "df_uml, df_umg = preprocess(df, save_csv=False)"
   ]
  },
  {
   "cell_type": "code",
   "execution_count": null,
   "metadata": {},
   "outputs": [],
   "source": [
    "def train_eval_model(model, df_val, df_train):\n",
    "         \n",
    "\n",
    "    X = df_train.drop(columns=['Diagnosis'])\n",
    "    y = df_train['Diagnosis']\n",
    "\n",
    "    X_train, X_test, y_train, y_test = train_test_split(X, y, test_size=0.2, random_state=42)\n",
    "\n",
    "    model.fit(X_train, y_train)\n",
    "    y_pred = model.predict(X_test)\n",
    "\n",
    "    metrics_train = {\n",
    "    \"accuracy\": accuracy_score(y_test, y_pred),\n",
    "    \"precision\": precision_score(y_test, y_pred, average=\"weighted\"),\n",
    "    \"recall\": recall_score(y_test, y_pred, average=\"weighted\"),\n",
    "    \"f1_score\": f1_score(y_test, y_pred, average=\"weighted\"),\n",
    "    \"confusion_matrix\": confusion_matrix(y_test, y_pred),\n",
    "    \"roc_auc\": roc_auc_score(y_test, model.predict_proba(X_test)[:, 1], multi_class=\"ovr\", average=\"weighted\"),\n",
    "    \"model\" : model\n",
    "    \n",
    "    }\n",
    "\n",
    "    X_val = df_val.drop(columns=['Diagnosis'])\n",
    "    y_val = df_val['Diagnosis']\n",
    "    y_val_pred = model.predict(X_val)\n",
    "\n",
    "    metrics_val = {\n",
    "    \"accuracy\": accuracy_score(y_val, y_val_pred),\n",
    "    \"precision\": precision_score(y_val, y_val_pred, average=\"weighted\"),\n",
    "    \"recall\": recall_score(y_val, y_val_pred, average=\"weighted\"),\n",
    "    \"f1_score\": f1_score(y_val, y_val_pred, average=\"weighted\"),\n",
    "    \"confusion_matrix\": confusion_matrix(y_val, y_val_pred),\n",
    "    \"roc_auc\": roc_auc_score(y_val, model.predict_proba(X_val)[:, 1], multi_class=\"ovr\", average=\"weighted\"),\n",
    "    \"model\" : model\n",
    "    \n",
    "    }\n",
    "    return metrics_train, metrics_val"
   ]
  },
  {
   "cell_type": "code",
   "execution_count": null,
   "metadata": {},
   "outputs": [],
   "source": [
    "#put knn here"
   ]
  },
  {
   "cell_type": "code",
   "execution_count": null,
   "metadata": {},
   "outputs": [],
   "source": [
    "#put svm here"
   ]
  },
  {
   "cell_type": "code",
   "execution_count": null,
   "metadata": {},
   "outputs": [],
   "source": [
    "#put random forest here"
   ]
  },
  {
   "cell_type": "code",
   "execution_count": null,
   "metadata": {},
   "outputs": [],
   "source": [
    "#put xgboost here\n",
    "model = xgb.XGBClassifier()\n",
    "\n",
    "metrics_train, metrics_val = train_eval_model(model=model, df_train=df_uml, df_val=df_umg)\n",
    "\n",
    "print(\"Training Metrics:\")\n",
    "print(f\"Accuracy:     {metrics_train['accuracy']:.4f}\")\n",
    "print(f\"Recall:       {metrics_train['recall']:.4f}\")\n",
    "print(f\"F1 Score:     {metrics_train['f1_score']:.4f}\")\n",
    "print(f\"ROC AUC:      {metrics_train['roc_auc']:.4f}\")\n",
    "\n",
    "print(\"Validation Metrics:\")\n",
    "print(f\"Accuracy:     {metrics_val['accuracy']:.4f}\")\n",
    "print(f\"Recall:       {metrics_val['recall']:.4f}\")\n",
    "print(f\"F1 Score:     {metrics_val['f1_score']:.4f}\")\n",
    "print(f\"ROC AUC:      {metrics_val['roc_auc']:.4f}\")"
   ]
  }
 ],
 "metadata": {
  "kernelspec": {
   "display_name": "info",
   "language": "python",
   "name": "python3"
  },
  "language_info": {
   "codemirror_mode": {
    "name": "ipython",
    "version": 3
   },
   "file_extension": ".py",
   "mimetype": "text/x-python",
   "name": "python",
   "nbconvert_exporter": "python",
   "pygments_lexer": "ipython3",
   "version": "3.13.0"
  }
 },
 "nbformat": 4,
 "nbformat_minor": 2
}
